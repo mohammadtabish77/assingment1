{
 "cells": [
  {
   "cell_type": "code",
   "execution_count": 1,
   "id": "63f9bab7-745d-4b05-a50f-ab769f0ba660",
   "metadata": {},
   "outputs": [],
   "source": [
    "#Q1(i)\n",
    "a=(\"tab\")"
   ]
  },
  {
   "cell_type": "code",
   "execution_count": 2,
   "id": "0a3573bc-b5e9-4647-8075-a6e978b68e3d",
   "metadata": {},
   "outputs": [
    {
     "data": {
      "text/plain": [
       "str"
      ]
     },
     "execution_count": 2,
     "metadata": {},
     "output_type": "execute_result"
    }
   ],
   "source": [
    "type(a)"
   ]
  },
  {
   "cell_type": "code",
   "execution_count": 4,
   "id": "17bc5e28-4e38-48d7-8e0e-93663160aa04",
   "metadata": {},
   "outputs": [],
   "source": [
    "#Q1(ii)\n",
    "x=[1,2,3,4,5,6,\"pwskills\",2.33,True ]"
   ]
  },
  {
   "cell_type": "code",
   "execution_count": 12,
   "id": "080399bc-ce89-47e0-8f54-c592dfe096c6",
   "metadata": {},
   "outputs": [
    {
     "data": {
      "text/plain": [
       "list"
      ]
     },
     "execution_count": 12,
     "metadata": {},
     "output_type": "execute_result"
    }
   ],
   "source": [
    "type(x)"
   ]
  },
  {
   "cell_type": "code",
   "execution_count": 13,
   "id": "3f1e1abf-0ff5-4d97-a149-2dbb9617e4f8",
   "metadata": {},
   "outputs": [],
   "source": [
    "#Q1(iii)\n",
    "n=3.444"
   ]
  },
  {
   "cell_type": "code",
   "execution_count": 14,
   "id": "92329330-5b61-4365-9eb6-848eb23464f2",
   "metadata": {},
   "outputs": [
    {
     "data": {
      "text/plain": [
       "float"
      ]
     },
     "execution_count": 14,
     "metadata": {},
     "output_type": "execute_result"
    }
   ],
   "source": [
    "type(n)"
   ]
  },
  {
   "cell_type": "code",
   "execution_count": 15,
   "id": "b6c40f2c-ce0e-4511-b382-ed847c49626c",
   "metadata": {},
   "outputs": [],
   "source": [
    "#Q1(iv)\n",
    "t=2.3,3.4,4.5"
   ]
  },
  {
   "cell_type": "code",
   "execution_count": 23,
   "id": "ff8ce9d8-509c-4aa7-95e0-95e0c9b27e1f",
   "metadata": {},
   "outputs": [
    {
     "data": {
      "text/plain": [
       "tuple"
      ]
     },
     "execution_count": 23,
     "metadata": {},
     "output_type": "execute_result"
    }
   ],
   "source": [
    "type(t)"
   ]
  },
  {
   "cell_type": "code",
   "execution_count": 24,
   "id": "5bc543eb-ad70-40f1-ade0-da273d6c98f0",
   "metadata": {},
   "outputs": [],
   "source": [
    "#Q2(i)\n",
    "var1='phython'"
   ]
  },
  {
   "cell_type": "code",
   "execution_count": 25,
   "id": "f49bb202-ef29-459d-ad37-9e1e24df2c45",
   "metadata": {},
   "outputs": [
    {
     "data": {
      "text/plain": [
       "str"
      ]
     },
     "execution_count": 25,
     "metadata": {},
     "output_type": "execute_result"
    }
   ],
   "source": [
    "type(var1)"
   ]
  },
  {
   "cell_type": "code",
   "execution_count": 26,
   "id": "601faaab-ad14-46d4-9f49-1c1625b73279",
   "metadata": {},
   "outputs": [],
   "source": [
    "#Q2(ii)\n",
    "var2='[DS,ML,Python]'"
   ]
  },
  {
   "cell_type": "code",
   "execution_count": 27,
   "id": "9362b8b8-265e-4bd7-b022-437e5a2ab185",
   "metadata": {},
   "outputs": [
    {
     "data": {
      "text/plain": [
       "str"
      ]
     },
     "execution_count": 27,
     "metadata": {},
     "output_type": "execute_result"
    }
   ],
   "source": [
    "type(var2)"
   ]
  },
  {
   "cell_type": "code",
   "execution_count": 28,
   "id": "7f256e38-2f12-453d-8937-7b504763be5b",
   "metadata": {},
   "outputs": [],
   "source": [
    "#Q2(iii)\n",
    "var3=['ds','ML','python']"
   ]
  },
  {
   "cell_type": "code",
   "execution_count": 29,
   "id": "7573c1da-70df-44ee-beb4-3ef8e747cb2f",
   "metadata": {},
   "outputs": [
    {
     "data": {
      "text/plain": [
       "list"
      ]
     },
     "execution_count": 29,
     "metadata": {},
     "output_type": "execute_result"
    }
   ],
   "source": [
    "type(var3)"
   ]
  },
  {
   "cell_type": "code",
   "execution_count": 30,
   "id": "bc9825e4-1fc8-4ccd-a4ef-87bcfe2f9a8c",
   "metadata": {},
   "outputs": [],
   "source": [
    "#Q2(iv)\n",
    "var4=1."
   ]
  },
  {
   "cell_type": "code",
   "execution_count": 31,
   "id": "b138ee28-bea2-4e1b-bafc-03ed0f0e1a5c",
   "metadata": {},
   "outputs": [
    {
     "data": {
      "text/plain": [
       "float"
      ]
     },
     "execution_count": 31,
     "metadata": {},
     "output_type": "execute_result"
    }
   ],
   "source": [
    "type(var4)"
   ]
  },
  {
   "cell_type": "code",
   "execution_count": 40,
   "id": "85228145-155e-42a7-8def-dbdf419ee655",
   "metadata": {},
   "outputs": [],
   "source": [
    "#Q2(i)=string(ii)sring(iii)list(iv)float\n"
   ]
  },
  {
   "cell_type": "code",
   "execution_count": 43,
   "id": "14c59d46-a69d-40c9-bc2a-737f524a3f0d",
   "metadata": {},
   "outputs": [
    {
     "data": {
      "text/plain": [
       "4.0"
      ]
     },
     "execution_count": 43,
     "metadata": {},
     "output_type": "execute_result"
    }
   ],
   "source": [
    "#Q3(i) {/}salsh is use for division\n",
    "#i.g.\n",
    "8/2\n"
   ]
  },
  {
   "cell_type": "code",
   "execution_count": 53,
   "id": "3727b35c-98f6-43df-b6a5-a8d12b51f3b9",
   "metadata": {},
   "outputs": [
    {
     "data": {
      "text/plain": [
       "0"
      ]
     },
     "execution_count": 53,
     "metadata": {},
     "output_type": "execute_result"
    }
   ],
   "source": [
    "#Q3(ii){%} the moduls operator gives the remender after dividing the numbers\n",
    "#i.g.\n",
    "5%5\n"
   ]
  },
  {
   "cell_type": "code",
   "execution_count": 55,
   "id": "c70677c6-6164-4ede-87f7-d58adab77cbc",
   "metadata": {},
   "outputs": [
    {
     "data": {
      "text/plain": [
       "2"
      ]
     },
     "execution_count": 55,
     "metadata": {},
     "output_type": "execute_result"
    }
   ],
   "source": [
    "#Q3(iii){//}it divides the number but gives the integer value not exact value\n",
    "#i.g.\n",
    "5//2"
   ]
  },
  {
   "cell_type": "code",
   "execution_count": 58,
   "id": "0bbd906a-ea4e-43ea-aad2-c2c1c0ca71d8",
   "metadata": {},
   "outputs": [
    {
     "data": {
      "text/plain": [
       "3125"
      ]
     },
     "execution_count": 58,
     "metadata": {},
     "output_type": "execute_result"
    }
   ],
   "source": [
    "#Q3(iv){**}it it multiply the number with it self as many time as we want\n",
    "#i.g.\n",
    "5**5"
   ]
  },
  {
   "cell_type": "code",
   "execution_count": 4,
   "id": "a02c48e4-13e6-4585-8f9b-6cbb06f4fe1c",
   "metadata": {},
   "outputs": [
    {
     "name": "stdout",
     "output_type": "stream",
     "text": [
      "<class 'int'>\n",
      "1\n",
      "<class 'int'>\n",
      "2\n",
      "<class 'int'>\n",
      "3\n",
      "<class 'int'>\n",
      "4\n",
      "<class 'str'>\n",
      "aqu\n",
      "<class 'str'>\n",
      "tab\n",
      "<class 'bool'>\n",
      "True\n",
      "<class 'bool'>\n",
      "False\n",
      "<class 'float'>\n",
      "4.66\n",
      "<class 'float'>\n",
      "2.33\n"
     ]
    }
   ],
   "source": [
    "#Q4\n",
    "l=[1,2,3,4,'aqu',\"tab\",True,False,4.66,2.33]\n",
    "for i in l :\n",
    "    print(type (i))\n",
    "    print(i)\n"
   ]
  },
  {
   "cell_type": "code",
   "execution_count": 19,
   "id": "c75fea52-953f-4054-9309-b627dafb852e",
   "metadata": {},
   "outputs": [
    {
     "name": "stdin",
     "output_type": "stream",
     "text": [
      "enter A: 8\n",
      "enter B: 2\n"
     ]
    },
    {
     "name": "stdout",
     "output_type": "stream",
     "text": [
      "8 is purely divisible by 2,  3time's\n"
     ]
    }
   ],
   "source": [
    "#Q5\n",
    "A= int(input(\"enter A:\"))\n",
    "B= int(input(\"enter B:\"))\n",
    "c=0\n",
    "d=A\n",
    "while A%B==0 and d%B==0:\n",
    "    d//=B\n",
    "    c +=1\n",
    "if c>0:\n",
    "    print(f\"{A} is purely divisible by {B},  {c}time's\")\n",
    "\n",
    "else:\n",
    "    print(f\"{A}is not divisible by {B}\")\n",
    "    "
   ]
  },
  {
   "cell_type": "code",
   "execution_count": 14,
   "id": "00229f77-6d6b-4f94-a344-61c387405bf5",
   "metadata": {},
   "outputs": [
    {
     "name": "stdout",
     "output_type": "stream",
     "text": [
      "1 is not divisible by 3\n",
      "2 is not divisible by 3\n",
      "3 is divisible by 3\n",
      "4 is not divisible by 3\n",
      "5 is not divisible by 3\n",
      "6 is divisible by 3\n",
      "7 is not divisible by 3\n",
      "8 is not divisible by 3\n",
      "9 is divisible by 3\n",
      "10 is not divisible by 3\n",
      "11 is not divisible by 3\n",
      "12 is divisible by 3\n",
      "13 is not divisible by 3\n",
      "14 is not divisible by 3\n",
      "15 is divisible by 3\n",
      "16 is not divisible by 3\n",
      "17 is not divisible by 3\n",
      "18 is divisible by 3\n",
      "19 is not divisible by 3\n",
      "20 is not divisible by 3\n",
      "21 is divisible by 3\n",
      "22 is not divisible by 3\n",
      "23 is not divisible by 3\n",
      "24 is divisible by 3\n",
      "25 is not divisible by 3\n"
     ]
    }
   ],
   "source": [
    "#Q6\n",
    "li=[1,2,3,4,5,6,7,8,9,10 ,11,12,13,14,15,16,17,18,19,20,21,22,23,24,25]\n",
    "for y in li: \n",
    "    \n",
    "    if y%3==0:\n",
    "        print(f'{y} is divisible by {3}')\n",
    "    else:\n",
    "        print(f'{y} is not divisible by {3}')"
   ]
  },
  {
   "cell_type": "code",
   "execution_count": 5,
   "id": "e3185b50-73ab-488b-9e9b-69916edde13b",
   "metadata": {},
   "outputs": [
    {
     "ename": "SyntaxError",
     "evalue": "invalid syntax. Perhaps you forgot a comma? (2520679429.py, line 6)",
     "output_type": "error",
     "traceback": [
      "\u001b[0;36m  Cell \u001b[0;32mIn[5], line 6\u001b[0;36m\u001b[0m\n\u001b[0;31m    u=[1,2,3,\"tab\"2.33,True]#list is a mutable datatype\u001b[0m\n\u001b[0m             ^\u001b[0m\n\u001b[0;31mSyntaxError\u001b[0m\u001b[0;31m:\u001b[0m invalid syntax. Perhaps you forgot a comma?\n"
     ]
    }
   ],
   "source": [
    "#Q7\n",
    "#after creating a data if it is mutable data then we can modify the data \n",
    "#if the data is immutable we can not modify the data once we created\n",
    "#i.g.\n",
    "q=(\"tab\")#string is a immutable datatype\n",
    "u=[1,2,3,\"tab\"2.33,True]#list is a mutable datatype"
   ]
  }
 ],
 "metadata": {
  "kernelspec": {
   "display_name": "Python 3 (ipykernel)",
   "language": "python",
   "name": "python3"
  },
  "language_info": {
   "codemirror_mode": {
    "name": "ipython",
    "version": 3
   },
   "file_extension": ".py",
   "mimetype": "text/x-python",
   "name": "python",
   "nbconvert_exporter": "python",
   "pygments_lexer": "ipython3",
   "version": "3.10.8"
  }
 },
 "nbformat": 4,
 "nbformat_minor": 5
}
